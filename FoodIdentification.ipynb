{
 "cells": [
  {
   "cell_type": "code",
   "execution_count": null,
   "id": "0b101754-ec17-4422-b439-5da551fa777f",
   "metadata": {},
   "outputs": [],
   "source": [
    "import pandas as pd\n",
    "from sklearn.preprocessing import LabelEncoder, OneHotEncoder"
   ]
  },
  {
   "cell_type": "code",
   "execution_count": null,
   "id": "732f98d3-481b-4d8d-aba6-70cdf5f2d42b",
   "metadata": {},
   "outputs": [],
   "source": [
    "data = [\n",
    "    {\"country\": \"India\", \"age\": 38.0, \"salary\": 68000.0, \"purchased\": False},  \n",
    "    {\"country\": \"France\", \"age\": 43.0, \"salary\": 45000.0, \"purchased\": True},\n",
    "    {\"country\": \"Germany\", \"age\": 30.0, \"salary\": 54000.0, \"purchased\": False},    \n",
    "    {\"country\": \"France\", \"age\": 48.0, \"salary\": 65000.0, \"purchased\": False},  \n",
    "    {\"country\": \"Germany\", \"age\": 40.0, \"salary\": None, \"purchased\": True},\n",
    "    {\"country\": \"India\", \"age\": 35.0, \"salary\": 58000.0, \"purchased\": True},\n",
    "    {\"country\": \"Germany\", \"age\": None, \"salary\": 53000.0, \"purchased\": False},  \n",
    "    {\"country\": \"France\", \"age\": 49.0, \"salary\": 79000.0, \"purchased\": True},  \n",
    "    {\"country\": \"India\", \"age\": 50.0, \"salary\": 88000.0, \"purchased\": False}, \n",
    "    {\"country\": \"France\", \"age\": 37.0, \"salary\": 77000.0, \"purchased\": True} \n",
    "]"
   ]
  }
 ],
 "metadata": {
  "kernelspec": {
   "display_name": "Python 3 (ipykernel)",
   "language": "python",
   "name": "python3"
  },
  "language_info": {
   "codemirror_mode": {
    "name": "ipython",
    "version": 3
   },
   "file_extension": ".py",
   "mimetype": "text/x-python",
   "name": "python",
   "nbconvert_exporter": "python",
   "pygments_lexer": "ipython3",
   "version": "3.11.5"
  }
 },
 "nbformat": 4,
 "nbformat_minor": 5
}
